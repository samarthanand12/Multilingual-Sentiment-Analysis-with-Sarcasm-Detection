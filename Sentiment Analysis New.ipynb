{
 "cells": [
  {
   "cell_type": "markdown",
   "metadata": {},
   "source": [
    "# Twitter Data Sentiment Analysis"
   ]
  },
  {
   "cell_type": "markdown",
   "metadata": {},
   "source": [
    "# Importing Essential Libraries"
   ]
  },
  {
   "cell_type": "code",
   "execution_count": 1,
   "metadata": {},
   "outputs": [],
   "source": [
    "#importing libraries\n",
    "import numpy as np # for numeric calculation\n",
    "import pandas as pd # for data manupulation or analysis\n",
    "import sklearn as sk # for training and testing data\n",
    "import matplotlib.pyplot as plt # for data visualization\n",
    "from googletrans import Translator # for multilingual purpose\n",
    "from nltk.sentiment.vader import SentimentIntensityAnalyzer # for analysing sentiment "
   ]
  },
  {
   "cell_type": "code",
   "execution_count": 2,
   "metadata": {},
   "outputs": [],
   "source": [
    "translator = Translator()\n",
    "samarth=SentimentIntensityAnalyzer()"
   ]
  },
  {
   "cell_type": "markdown",
   "metadata": {},
   "source": [
    "# Data Loading"
   ]
  },
  {
   "cell_type": "code",
   "execution_count": 25,
   "metadata": {},
   "outputs": [],
   "source": [
    "# load twitter data\n",
    "file = pd.read_csv('D:/Sentiment Analysis/aktu.csv')"
   ]
  },
  {
   "cell_type": "markdown",
   "metadata": {},
   "source": [
    "# Data Presentation before Cleaning Data"
   ]
  },
  {
   "cell_type": "code",
   "execution_count": 26,
   "metadata": {},
   "outputs": [
    {
     "data": {
      "text/plain": [
       "Index(['language', 'location', 'text'], dtype='object')"
      ]
     },
     "execution_count": 26,
     "metadata": {},
     "output_type": "execute_result"
    }
   ],
   "source": [
    "file.keys() # Displaying dataframe keys"
   ]
  },
  {
   "cell_type": "code",
   "execution_count": 27,
   "metadata": {},
   "outputs": [
    {
     "name": "stdout",
     "output_type": "stream",
     "text": [
      "<class 'pandas.core.frame.DataFrame'>\n",
      "RangeIndex: 24 entries, 0 to 23\n",
      "Data columns (total 3 columns):\n",
      " #   Column    Non-Null Count  Dtype \n",
      "---  ------    --------------  ----- \n",
      " 0   language  12 non-null     object\n",
      " 1   location  9 non-null      object\n",
      " 2   text      12 non-null     object\n",
      "dtypes: object(3)\n",
      "memory usage: 704.0+ bytes\n"
     ]
    }
   ],
   "source": [
    "file.info() # Displaying dataframe Information"
   ]
  },
  {
   "cell_type": "code",
   "execution_count": 28,
   "metadata": {},
   "outputs": [
    {
     "data": {
      "text/html": [
       "<div>\n",
       "<style scoped>\n",
       "    .dataframe tbody tr th:only-of-type {\n",
       "        vertical-align: middle;\n",
       "    }\n",
       "\n",
       "    .dataframe tbody tr th {\n",
       "        vertical-align: top;\n",
       "    }\n",
       "\n",
       "    .dataframe thead th {\n",
       "        text-align: right;\n",
       "    }\n",
       "</style>\n",
       "<table border=\"1\" class=\"dataframe\">\n",
       "  <thead>\n",
       "    <tr style=\"text-align: right;\">\n",
       "      <th></th>\n",
       "      <th>language</th>\n",
       "      <th>location</th>\n",
       "      <th>text</th>\n",
       "    </tr>\n",
       "  </thead>\n",
       "  <tbody>\n",
       "    <tr>\n",
       "      <th>0</th>\n",
       "      <td>NaN</td>\n",
       "      <td>NaN</td>\n",
       "      <td>NaN</td>\n",
       "    </tr>\n",
       "    <tr>\n",
       "      <th>1</th>\n",
       "      <td>en</td>\n",
       "      <td>Chicago, IL</td>\n",
       "      <td>@shekgar @RajiIndustani They are not getting s...</td>\n",
       "    </tr>\n",
       "    <tr>\n",
       "      <th>2</th>\n",
       "      <td>NaN</td>\n",
       "      <td>NaN</td>\n",
       "      <td>NaN</td>\n",
       "    </tr>\n",
       "    <tr>\n",
       "      <th>3</th>\n",
       "      <td>en</td>\n",
       "      <td>NaN</td>\n",
       "      <td>@BaxiShachi @AmitShah @narendramodi Dont you g...</td>\n",
       "    </tr>\n",
       "    <tr>\n",
       "      <th>4</th>\n",
       "      <td>NaN</td>\n",
       "      <td>NaN</td>\n",
       "      <td>NaN</td>\n",
       "    </tr>\n",
       "    <tr>\n",
       "      <th>5</th>\n",
       "      <td>en</td>\n",
       "      <td>Rajpura, India</td>\n",
       "      <td>@rssurjewala Sir must push BJP to wall with in...</td>\n",
       "    </tr>\n",
       "    <tr>\n",
       "      <th>6</th>\n",
       "      <td>NaN</td>\n",
       "      <td>NaN</td>\n",
       "      <td>NaN</td>\n",
       "    </tr>\n",
       "    <tr>\n",
       "      <th>7</th>\n",
       "      <td>en</td>\n",
       "      <td>Rajpura, India</td>\n",
       "      <td>@RahulGandhi Must push bjp to wall with fuel p...</td>\n",
       "    </tr>\n",
       "    <tr>\n",
       "      <th>8</th>\n",
       "      <td>NaN</td>\n",
       "      <td>NaN</td>\n",
       "      <td>NaN</td>\n",
       "    </tr>\n",
       "    <tr>\n",
       "      <th>9</th>\n",
       "      <td>en</td>\n",
       "      <td>NaN</td>\n",
       "      <td>Why is there unprecedented martyred of our Jaw...</td>\n",
       "    </tr>\n",
       "    <tr>\n",
       "      <th>10</th>\n",
       "      <td>NaN</td>\n",
       "      <td>NaN</td>\n",
       "      <td>NaN</td>\n",
       "    </tr>\n",
       "    <tr>\n",
       "      <th>11</th>\n",
       "      <td>en</td>\n",
       "      <td>Kerala, India</td>\n",
       "      <td>@SRMa64117330 @AnshumanSail I think this itsel...</td>\n",
       "    </tr>\n",
       "    <tr>\n",
       "      <th>12</th>\n",
       "      <td>NaN</td>\n",
       "      <td>NaN</td>\n",
       "      <td>NaN</td>\n",
       "    </tr>\n",
       "    <tr>\n",
       "      <th>13</th>\n",
       "      <td>en</td>\n",
       "      <td>Chicago, IL</td>\n",
       "      <td>@RajiIndustani But people have to vote for BJP...</td>\n",
       "    </tr>\n",
       "    <tr>\n",
       "      <th>14</th>\n",
       "      <td>NaN</td>\n",
       "      <td>NaN</td>\n",
       "      <td>NaN</td>\n",
       "    </tr>\n",
       "    <tr>\n",
       "      <th>15</th>\n",
       "      <td>en</td>\n",
       "      <td>Chennai</td>\n",
       "      <td>@Ravinder536R @Swamy39 Manmohan Singh as PM ‘a...</td>\n",
       "    </tr>\n",
       "    <tr>\n",
       "      <th>16</th>\n",
       "      <td>NaN</td>\n",
       "      <td>NaN</td>\n",
       "      <td>NaN</td>\n",
       "    </tr>\n",
       "    <tr>\n",
       "      <th>17</th>\n",
       "      <td>en</td>\n",
       "      <td>NaN</td>\n",
       "      <td>\" NEW DELHI: Amid the raging controversy over ...</td>\n",
       "    </tr>\n",
       "    <tr>\n",
       "      <th>18</th>\n",
       "      <td>NaN</td>\n",
       "      <td>NaN</td>\n",
       "      <td>NaN</td>\n",
       "    </tr>\n",
       "    <tr>\n",
       "      <th>19</th>\n",
       "      <td>en</td>\n",
       "      <td>Lahore, Pakistan</td>\n",
       "      <td>@Lovernova1 @vishj05 But that was again your p...</td>\n",
       "    </tr>\n",
       "    <tr>\n",
       "      <th>20</th>\n",
       "      <td>NaN</td>\n",
       "      <td>NaN</td>\n",
       "      <td>NaN</td>\n",
       "    </tr>\n",
       "    <tr>\n",
       "      <th>21</th>\n",
       "      <td>en</td>\n",
       "      <td>Lahore, Pakistan</td>\n",
       "      <td>@Lovernova1 @vishj05 But that was again your p...</td>\n",
       "    </tr>\n",
       "    <tr>\n",
       "      <th>22</th>\n",
       "      <td>NaN</td>\n",
       "      <td>NaN</td>\n",
       "      <td>NaN</td>\n",
       "    </tr>\n",
       "    <tr>\n",
       "      <th>23</th>\n",
       "      <td>en</td>\n",
       "      <td>Lahore, Pakistan</td>\n",
       "      <td>@Lovernova1 @vishj05 But that was again your p...</td>\n",
       "    </tr>\n",
       "  </tbody>\n",
       "</table>\n",
       "</div>"
      ],
      "text/plain": [
       "   language          location  \\\n",
       "0       NaN               NaN   \n",
       "1        en       Chicago, IL   \n",
       "2       NaN               NaN   \n",
       "3        en               NaN   \n",
       "4       NaN               NaN   \n",
       "5        en    Rajpura, India   \n",
       "6       NaN               NaN   \n",
       "7        en    Rajpura, India   \n",
       "8       NaN               NaN   \n",
       "9        en               NaN   \n",
       "10      NaN               NaN   \n",
       "11       en     Kerala, India   \n",
       "12      NaN               NaN   \n",
       "13       en       Chicago, IL   \n",
       "14      NaN               NaN   \n",
       "15       en           Chennai   \n",
       "16      NaN               NaN   \n",
       "17       en               NaN   \n",
       "18      NaN               NaN   \n",
       "19       en  Lahore, Pakistan   \n",
       "20      NaN               NaN   \n",
       "21       en  Lahore, Pakistan   \n",
       "22      NaN               NaN   \n",
       "23       en  Lahore, Pakistan   \n",
       "\n",
       "                                                 text  \n",
       "0                                                 NaN  \n",
       "1   @shekgar @RajiIndustani They are not getting s...  \n",
       "2                                                 NaN  \n",
       "3   @BaxiShachi @AmitShah @narendramodi Dont you g...  \n",
       "4                                                 NaN  \n",
       "5   @rssurjewala Sir must push BJP to wall with in...  \n",
       "6                                                 NaN  \n",
       "7   @RahulGandhi Must push bjp to wall with fuel p...  \n",
       "8                                                 NaN  \n",
       "9   Why is there unprecedented martyred of our Jaw...  \n",
       "10                                                NaN  \n",
       "11  @SRMa64117330 @AnshumanSail I think this itsel...  \n",
       "12                                                NaN  \n",
       "13  @RajiIndustani But people have to vote for BJP...  \n",
       "14                                                NaN  \n",
       "15  @Ravinder536R @Swamy39 Manmohan Singh as PM ‘a...  \n",
       "16                                                NaN  \n",
       "17  \" NEW DELHI: Amid the raging controversy over ...  \n",
       "18                                                NaN  \n",
       "19  @Lovernova1 @vishj05 But that was again your p...  \n",
       "20                                                NaN  \n",
       "21  @Lovernova1 @vishj05 But that was again your p...  \n",
       "22                                                NaN  \n",
       "23  @Lovernova1 @vishj05 But that was again your p...  "
      ]
     },
     "execution_count": 28,
     "metadata": {},
     "output_type": "execute_result"
    }
   ],
   "source": [
    "file # Displaying dataframe"
   ]
  },
  {
   "cell_type": "code",
   "execution_count": 29,
   "metadata": {},
   "outputs": [
    {
     "data": {
      "text/plain": [
       "pandas.core.frame.DataFrame"
      ]
     },
     "execution_count": 29,
     "metadata": {},
     "output_type": "execute_result"
    }
   ],
   "source": [
    "type(file)"
   ]
  },
  {
   "cell_type": "code",
   "execution_count": 30,
   "metadata": {},
   "outputs": [
    {
     "data": {
      "text/plain": [
       "(24, 3)"
      ]
     },
     "execution_count": 30,
     "metadata": {},
     "output_type": "execute_result"
    }
   ],
   "source": [
    "# Shape of dataframe before Cleaning Data\n",
    "file.shape"
   ]
  },
  {
   "cell_type": "code",
   "execution_count": 31,
   "metadata": {},
   "outputs": [
    {
     "data": {
      "text/html": [
       "<div>\n",
       "<style scoped>\n",
       "    .dataframe tbody tr th:only-of-type {\n",
       "        vertical-align: middle;\n",
       "    }\n",
       "\n",
       "    .dataframe tbody tr th {\n",
       "        vertical-align: top;\n",
       "    }\n",
       "\n",
       "    .dataframe thead th {\n",
       "        text-align: right;\n",
       "    }\n",
       "</style>\n",
       "<table border=\"1\" class=\"dataframe\">\n",
       "  <thead>\n",
       "    <tr style=\"text-align: right;\">\n",
       "      <th></th>\n",
       "      <th>language</th>\n",
       "      <th>location</th>\n",
       "      <th>text</th>\n",
       "    </tr>\n",
       "  </thead>\n",
       "  <tbody>\n",
       "    <tr>\n",
       "      <th>count</th>\n",
       "      <td>12</td>\n",
       "      <td>9</td>\n",
       "      <td>12</td>\n",
       "    </tr>\n",
       "    <tr>\n",
       "      <th>unique</th>\n",
       "      <td>1</td>\n",
       "      <td>5</td>\n",
       "      <td>10</td>\n",
       "    </tr>\n",
       "    <tr>\n",
       "      <th>top</th>\n",
       "      <td>en</td>\n",
       "      <td>Lahore, Pakistan</td>\n",
       "      <td>@Lovernova1 @vishj05 But that was again your p...</td>\n",
       "    </tr>\n",
       "    <tr>\n",
       "      <th>freq</th>\n",
       "      <td>12</td>\n",
       "      <td>3</td>\n",
       "      <td>3</td>\n",
       "    </tr>\n",
       "  </tbody>\n",
       "</table>\n",
       "</div>"
      ],
      "text/plain": [
       "       language          location  \\\n",
       "count        12                 9   \n",
       "unique        1                 5   \n",
       "top          en  Lahore, Pakistan   \n",
       "freq         12                 3   \n",
       "\n",
       "                                                     text  \n",
       "count                                                  12  \n",
       "unique                                                 10  \n",
       "top     @Lovernova1 @vishj05 But that was again your p...  \n",
       "freq                                                    3  "
      ]
     },
     "execution_count": 31,
     "metadata": {},
     "output_type": "execute_result"
    }
   ],
   "source": [
    "file.describe()"
   ]
  },
  {
   "cell_type": "code",
   "execution_count": 33,
   "metadata": {},
   "outputs": [
    {
     "data": {
      "text/plain": [
       "0                                                   NaN\n",
       "1     @shekgar @RajiIndustani They are not getting s...\n",
       "2                                                   NaN\n",
       "3     @BaxiShachi @AmitShah @narendramodi Dont you g...\n",
       "4                                                   NaN\n",
       "5     @rssurjewala Sir must push BJP to wall with in...\n",
       "6                                                   NaN\n",
       "7     @RahulGandhi Must push bjp to wall with fuel p...\n",
       "8                                                   NaN\n",
       "9     Why is there unprecedented martyred of our Jaw...\n",
       "10                                                  NaN\n",
       "11    @SRMa64117330 @AnshumanSail I think this itsel...\n",
       "12                                                  NaN\n",
       "13    @RajiIndustani But people have to vote for BJP...\n",
       "14                                                  NaN\n",
       "15    @Ravinder536R @Swamy39 Manmohan Singh as PM ‘a...\n",
       "16                                                  NaN\n",
       "17    \" NEW DELHI: Amid the raging controversy over ...\n",
       "18                                                  NaN\n",
       "19    @Lovernova1 @vishj05 But that was again your p...\n",
       "20                                                  NaN\n",
       "21    @Lovernova1 @vishj05 But that was again your p...\n",
       "22                                                  NaN\n",
       "23    @Lovernova1 @vishj05 But that was again your p...\n",
       "Name: text, dtype: object"
      ]
     },
     "execution_count": 33,
     "metadata": {},
     "output_type": "execute_result"
    }
   ],
   "source": [
    "file.isnull().sum()"
   ]
  },
  {
   "cell_type": "markdown",
   "metadata": {},
   "source": [
    "# Cleaning Dataframe"
   ]
  },
  {
   "cell_type": "code",
   "execution_count": 34,
   "metadata": {},
   "outputs": [],
   "source": [
    "# it is used to remove null values\n",
    "file.dropna(inplace=True)\n",
    "empty=[]\n",
    "for i,lang,loc,txt in file.itertuples():\n",
    "    if(type(txt)==str):\n",
    "        if(txt.isspace()):\n",
    "            empty.append(i)\n",
    "file.drop(empty, inplace=True)"
   ]
  },
  {
   "cell_type": "code",
   "execution_count": 35,
   "metadata": {},
   "outputs": [],
   "source": [
    "# it is used to delete duplicate values\n",
    "file = file.drop_duplicates(subset=None,keep=\"first\")"
   ]
  },
  {
   "cell_type": "markdown",
   "metadata": {},
   "source": [
    "# Data Presentation after Cleaning Data"
   ]
  },
  {
   "cell_type": "code",
   "execution_count": 36,
   "metadata": {},
   "outputs": [
    {
     "data": {
      "text/plain": [
       "Index(['language', 'location', 'text'], dtype='object')"
      ]
     },
     "execution_count": 36,
     "metadata": {},
     "output_type": "execute_result"
    }
   ],
   "source": [
    "file.keys() # Displaying dataframe keys"
   ]
  },
  {
   "cell_type": "code",
   "execution_count": 37,
   "metadata": {},
   "outputs": [
    {
     "name": "stdout",
     "output_type": "stream",
     "text": [
      "<class 'pandas.core.frame.DataFrame'>\n",
      "Int64Index: 7 entries, 1 to 19\n",
      "Data columns (total 3 columns):\n",
      " #   Column    Non-Null Count  Dtype \n",
      "---  ------    --------------  ----- \n",
      " 0   language  7 non-null      object\n",
      " 1   location  7 non-null      object\n",
      " 2   text      7 non-null      object\n",
      "dtypes: object(3)\n",
      "memory usage: 224.0+ bytes\n"
     ]
    }
   ],
   "source": [
    "file.info() # Displaying dataframe Information"
   ]
  },
  {
   "cell_type": "code",
   "execution_count": 38,
   "metadata": {},
   "outputs": [
    {
     "data": {
      "text/html": [
       "<div>\n",
       "<style scoped>\n",
       "    .dataframe tbody tr th:only-of-type {\n",
       "        vertical-align: middle;\n",
       "    }\n",
       "\n",
       "    .dataframe tbody tr th {\n",
       "        vertical-align: top;\n",
       "    }\n",
       "\n",
       "    .dataframe thead th {\n",
       "        text-align: right;\n",
       "    }\n",
       "</style>\n",
       "<table border=\"1\" class=\"dataframe\">\n",
       "  <thead>\n",
       "    <tr style=\"text-align: right;\">\n",
       "      <th></th>\n",
       "      <th>language</th>\n",
       "      <th>location</th>\n",
       "      <th>text</th>\n",
       "    </tr>\n",
       "  </thead>\n",
       "  <tbody>\n",
       "    <tr>\n",
       "      <th>1</th>\n",
       "      <td>en</td>\n",
       "      <td>Chicago, IL</td>\n",
       "      <td>@shekgar @RajiIndustani They are not getting s...</td>\n",
       "    </tr>\n",
       "    <tr>\n",
       "      <th>5</th>\n",
       "      <td>en</td>\n",
       "      <td>Rajpura, India</td>\n",
       "      <td>@rssurjewala Sir must push BJP to wall with in...</td>\n",
       "    </tr>\n",
       "    <tr>\n",
       "      <th>7</th>\n",
       "      <td>en</td>\n",
       "      <td>Rajpura, India</td>\n",
       "      <td>@RahulGandhi Must push bjp to wall with fuel p...</td>\n",
       "    </tr>\n",
       "    <tr>\n",
       "      <th>11</th>\n",
       "      <td>en</td>\n",
       "      <td>Kerala, India</td>\n",
       "      <td>@SRMa64117330 @AnshumanSail I think this itsel...</td>\n",
       "    </tr>\n",
       "    <tr>\n",
       "      <th>13</th>\n",
       "      <td>en</td>\n",
       "      <td>Chicago, IL</td>\n",
       "      <td>@RajiIndustani But people have to vote for BJP...</td>\n",
       "    </tr>\n",
       "    <tr>\n",
       "      <th>15</th>\n",
       "      <td>en</td>\n",
       "      <td>Chennai</td>\n",
       "      <td>@Ravinder536R @Swamy39 Manmohan Singh as PM ‘a...</td>\n",
       "    </tr>\n",
       "    <tr>\n",
       "      <th>19</th>\n",
       "      <td>en</td>\n",
       "      <td>Lahore, Pakistan</td>\n",
       "      <td>@Lovernova1 @vishj05 But that was again your p...</td>\n",
       "    </tr>\n",
       "  </tbody>\n",
       "</table>\n",
       "</div>"
      ],
      "text/plain": [
       "   language          location  \\\n",
       "1        en       Chicago, IL   \n",
       "5        en    Rajpura, India   \n",
       "7        en    Rajpura, India   \n",
       "11       en     Kerala, India   \n",
       "13       en       Chicago, IL   \n",
       "15       en           Chennai   \n",
       "19       en  Lahore, Pakistan   \n",
       "\n",
       "                                                 text  \n",
       "1   @shekgar @RajiIndustani They are not getting s...  \n",
       "5   @rssurjewala Sir must push BJP to wall with in...  \n",
       "7   @RahulGandhi Must push bjp to wall with fuel p...  \n",
       "11  @SRMa64117330 @AnshumanSail I think this itsel...  \n",
       "13  @RajiIndustani But people have to vote for BJP...  \n",
       "15  @Ravinder536R @Swamy39 Manmohan Singh as PM ‘a...  \n",
       "19  @Lovernova1 @vishj05 But that was again your p...  "
      ]
     },
     "execution_count": 38,
     "metadata": {},
     "output_type": "execute_result"
    }
   ],
   "source": [
    "file # Displaying dataframe"
   ]
  },
  {
   "cell_type": "code",
   "execution_count": 39,
   "metadata": {},
   "outputs": [
    {
     "data": {
      "text/plain": [
       "pandas.core.frame.DataFrame"
      ]
     },
     "execution_count": 39,
     "metadata": {},
     "output_type": "execute_result"
    }
   ],
   "source": [
    "type(file)"
   ]
  },
  {
   "cell_type": "code",
   "execution_count": 40,
   "metadata": {},
   "outputs": [
    {
     "data": {
      "text/plain": [
       "(7, 3)"
      ]
     },
     "execution_count": 40,
     "metadata": {},
     "output_type": "execute_result"
    }
   ],
   "source": [
    "file.shape"
   ]
  },
  {
   "cell_type": "code",
   "execution_count": 41,
   "metadata": {},
   "outputs": [
    {
     "data": {
      "text/html": [
       "<div>\n",
       "<style scoped>\n",
       "    .dataframe tbody tr th:only-of-type {\n",
       "        vertical-align: middle;\n",
       "    }\n",
       "\n",
       "    .dataframe tbody tr th {\n",
       "        vertical-align: top;\n",
       "    }\n",
       "\n",
       "    .dataframe thead th {\n",
       "        text-align: right;\n",
       "    }\n",
       "</style>\n",
       "<table border=\"1\" class=\"dataframe\">\n",
       "  <thead>\n",
       "    <tr style=\"text-align: right;\">\n",
       "      <th></th>\n",
       "      <th>language</th>\n",
       "      <th>location</th>\n",
       "      <th>text</th>\n",
       "    </tr>\n",
       "  </thead>\n",
       "  <tbody>\n",
       "    <tr>\n",
       "      <th>count</th>\n",
       "      <td>7</td>\n",
       "      <td>7</td>\n",
       "      <td>7</td>\n",
       "    </tr>\n",
       "    <tr>\n",
       "      <th>unique</th>\n",
       "      <td>1</td>\n",
       "      <td>5</td>\n",
       "      <td>7</td>\n",
       "    </tr>\n",
       "    <tr>\n",
       "      <th>top</th>\n",
       "      <td>en</td>\n",
       "      <td>Rajpura, India</td>\n",
       "      <td>@RahulGandhi Must push bjp to wall with fuel p...</td>\n",
       "    </tr>\n",
       "    <tr>\n",
       "      <th>freq</th>\n",
       "      <td>7</td>\n",
       "      <td>2</td>\n",
       "      <td>1</td>\n",
       "    </tr>\n",
       "  </tbody>\n",
       "</table>\n",
       "</div>"
      ],
      "text/plain": [
       "       language        location  \\\n",
       "count         7               7   \n",
       "unique        1               5   \n",
       "top          en  Rajpura, India   \n",
       "freq          7               2   \n",
       "\n",
       "                                                     text  \n",
       "count                                                   7  \n",
       "unique                                                  7  \n",
       "top     @RahulGandhi Must push bjp to wall with fuel p...  \n",
       "freq                                                    1  "
      ]
     },
     "execution_count": 41,
     "metadata": {},
     "output_type": "execute_result"
    }
   ],
   "source": [
    "file.describe()"
   ]
  },
  {
   "cell_type": "code",
   "execution_count": 42,
   "metadata": {},
   "outputs": [
    {
     "data": {
      "text/plain": [
       "language    0\n",
       "location    0\n",
       "text        0\n",
       "dtype: int64"
      ]
     },
     "execution_count": 42,
     "metadata": {},
     "output_type": "execute_result"
    }
   ],
   "source": [
    "file.isnull().sum()"
   ]
  },
  {
   "cell_type": "markdown",
   "metadata": {},
   "source": [
    "# Converting all tweets to Single Language (English)"
   ]
  },
  {
   "cell_type": "code",
   "execution_count": 43,
   "metadata": {},
   "outputs": [],
   "source": [
    "def multilingual(a):\n",
    "    try:\n",
    "        print(a)\n",
    "        return(translator.translate(a, dest=\"en\").text)\n",
    "    except:\n",
    "        print(a)\n",
    "        return(a)"
   ]
  },
  {
   "cell_type": "code",
   "execution_count": 44,
   "metadata": {},
   "outputs": [
    {
     "name": "stdout",
     "output_type": "stream",
     "text": [
      "@shekgar @RajiIndustani They are not getting support from Tamilnadu Hindus.  What can BJP do without ground support… https://t.co/BX4U9J8DMx\n",
      "@rssurjewala Sir must push BJP to wall with increasing fuel prices https://t.co/Y0QvjESOyG\n",
      "@RahulGandhi Must push bjp to wall with fuel prices sir https://t.co/QWQOAduV31\n",
      "@SRMa64117330 @AnshumanSail I think this itself proves what happened. There is no need for investigation. This has… https://t.co/vFMAf1IG5b\n",
      "@RajiIndustani But people have to vote for BJP and show some support.  Otherwise what can BJP do?  TN should realiz… https://t.co/euIEYbTylJ\n",
      "@Ravinder536R @Swamy39 Manmohan Singh as PM ‘abjectly surrendered’ India's land to China, presided over 600 incursi… https://t.co/NXCZ27MEmC\n",
      "@Lovernova1 @vishj05 But that was again your people who voted for BJP and opted these stupids to ruin and driving India to hell.\n"
     ]
    },
    {
     "name": "stderr",
     "output_type": "stream",
     "text": [
      "<ipython-input-44-7de18f1a9126>:1: SettingWithCopyWarning: \n",
      "A value is trying to be set on a copy of a slice from a DataFrame.\n",
      "Try using .loc[row_indexer,col_indexer] = value instead\n",
      "\n",
      "See the caveats in the documentation: https://pandas.pydata.org/pandas-docs/stable/user_guide/indexing.html#returning-a-view-versus-a-copy\n",
      "  file['new'] = file['text'].apply(lambda review: multilingual(review))\n"
     ]
    }
   ],
   "source": [
    "file['new'] = file['text'].apply(lambda review: multilingual(review))"
   ]
  },
  {
   "cell_type": "code",
   "execution_count": 21,
   "metadata": {},
   "outputs": [
    {
     "data": {
      "text/plain": [
       "0       @bsp_13 ...like your head hanging upside down ...\n",
       "1                 @bsp_13 yeah back on the land line days\n",
       "2                                 @bsp_13 Omg ur smile 😊😬\n",
       "3       @bsp_13 i do that shit when im stoned all the ...\n",
       "4                           @mnjshaffe The BSP is special\n",
       "                              ...                        \n",
       "1994    @defnotGG @EasterSnoopy @BankruptWebGoof @That...\n",
       "1995    @EasterSnoopy @bsp_13 @BankruptWebGoof @ThatDa...\n",
       "1998    @BankruptWebGoof @ThatDaveBrown my mother leav...\n",
       "1999                           @bsp_13 i enjoy your jokes\n",
       "2000                 @ThatDaveBrown @bsp_13 Who’s Simone?\n",
       "Name: new, Length: 1468, dtype: object"
      ]
     },
     "execution_count": 21,
     "metadata": {},
     "output_type": "execute_result"
    }
   ],
   "source": [
    "file['new'] # Displaying new dataframe"
   ]
  },
  {
   "cell_type": "markdown",
   "metadata": {},
   "source": [
    "# Predicting Polarity, Score, Compound Score"
   ]
  },
  {
   "cell_type": "code",
   "execution_count": 20,
   "metadata": {},
   "outputs": [
    {
     "name": "stderr",
     "output_type": "stream",
     "text": [
      "<ipython-input-20-df89a41a5aa8>:1: SettingWithCopyWarning: \n",
      "A value is trying to be set on a copy of a slice from a DataFrame.\n",
      "Try using .loc[row_indexer,col_indexer] = value instead\n",
      "\n",
      "See the caveats in the documentation: https://pandas.pydata.org/pandas-docs/stable/user_guide/indexing.html#returning-a-view-versus-a-copy\n",
      "  file['scores'] = file['text'].apply(lambda review: samarth.polarity_scores(review)) # Calculating polarity\n",
      "<ipython-input-20-df89a41a5aa8>:2: SettingWithCopyWarning: \n",
      "A value is trying to be set on a copy of a slice from a DataFrame.\n",
      "Try using .loc[row_indexer,col_indexer] = value instead\n",
      "\n",
      "See the caveats in the documentation: https://pandas.pydata.org/pandas-docs/stable/user_guide/indexing.html#returning-a-view-versus-a-copy\n",
      "  file['compound'] = file['scores'].apply(lambda score_dict: score_dict[\"compound\"])\n",
      "<ipython-input-20-df89a41a5aa8>:3: SettingWithCopyWarning: \n",
      "A value is trying to be set on a copy of a slice from a DataFrame.\n",
      "Try using .loc[row_indexer,col_indexer] = value instead\n",
      "\n",
      "See the caveats in the documentation: https://pandas.pydata.org/pandas-docs/stable/user_guide/indexing.html#returning-a-view-versus-a-copy\n",
      "  file['Comp_score'] = file['compound'].apply(lambda score: \"pos\" if score>0 else \"neg\")\n"
     ]
    }
   ],
   "source": [
    "file['scores'] = file['new'].apply(lambda review: samarth.polarity_scores(review)) # Calculating polarity\n",
    "file['compound'] = file['scores'].apply(lambda score_dict: score_dict[\"compound\"])\n",
    "file['Comp_score'] = file['compound'].apply(lambda score: \"pos\" if score>0 else (\"neu\" if score==0 else \"neg\"))"
   ]
  },
  {
   "cell_type": "code",
   "execution_count": 23,
   "metadata": {},
   "outputs": [
    {
     "data": {
      "text/html": [
       "<div>\n",
       "<style scoped>\n",
       "    .dataframe tbody tr th:only-of-type {\n",
       "        vertical-align: middle;\n",
       "    }\n",
       "\n",
       "    .dataframe tbody tr th {\n",
       "        vertical-align: top;\n",
       "    }\n",
       "\n",
       "    .dataframe thead th {\n",
       "        text-align: right;\n",
       "    }\n",
       "</style>\n",
       "<table border=\"1\" class=\"dataframe\">\n",
       "  <thead>\n",
       "    <tr style=\"text-align: right;\">\n",
       "      <th></th>\n",
       "      <th>language</th>\n",
       "      <th>location</th>\n",
       "      <th>text</th>\n",
       "      <th>new</th>\n",
       "      <th>scores</th>\n",
       "      <th>compound</th>\n",
       "      <th>Comp_score</th>\n",
       "    </tr>\n",
       "  </thead>\n",
       "  <tbody>\n",
       "    <tr>\n",
       "      <th>0</th>\n",
       "      <td>en</td>\n",
       "      <td>Ladner, BC, 🇨🇦</td>\n",
       "      <td>@bsp_13 ...like your head hanging upside down ...</td>\n",
       "      <td>@bsp_13 ...like your head hanging upside down ...</td>\n",
       "      <td>{'neg': 0.0, 'neu': 1.0, 'pos': 0.0, 'compound...</td>\n",
       "      <td>0.0000</td>\n",
       "      <td>pos</td>\n",
       "    </tr>\n",
       "    <tr>\n",
       "      <th>1</th>\n",
       "      <td>en</td>\n",
       "      <td>Boston, MA</td>\n",
       "      <td>@bsp_13 yeah back on the land line days</td>\n",
       "      <td>@bsp_13 yeah back on the land line days</td>\n",
       "      <td>{'neg': 0.0, 'neu': 0.761, 'pos': 0.239, 'comp...</td>\n",
       "      <td>0.2960</td>\n",
       "      <td>pos</td>\n",
       "    </tr>\n",
       "    <tr>\n",
       "      <th>2</th>\n",
       "      <td>en</td>\n",
       "      <td>Buffalo, NY</td>\n",
       "      <td>@bsp_13 Omg ur smile 😊😬</td>\n",
       "      <td>@bsp_13 Omg ur smile 😊😬</td>\n",
       "      <td>{'neg': 0.0, 'neu': 0.615, 'pos': 0.385, 'comp...</td>\n",
       "      <td>0.3612</td>\n",
       "      <td>pos</td>\n",
       "    </tr>\n",
       "    <tr>\n",
       "      <th>3</th>\n",
       "      <td>en</td>\n",
       "      <td>Huntington Beach, CA</td>\n",
       "      <td>@bsp_13 i do that shit when im stoned all the ...</td>\n",
       "      <td>@bsp_13 i do that shit when im stoned all the ...</td>\n",
       "      <td>{'neg': 0.286, 'neu': 0.714, 'pos': 0.0, 'comp...</td>\n",
       "      <td>-0.5574</td>\n",
       "      <td>neg</td>\n",
       "    </tr>\n",
       "    <tr>\n",
       "      <th>4</th>\n",
       "      <td>en</td>\n",
       "      <td>T-Clem</td>\n",
       "      <td>@mnjshaffe The BSP is special</td>\n",
       "      <td>@mnjshaffe The BSP is special</td>\n",
       "      <td>{'neg': 0.0, 'neu': 0.597, 'pos': 0.403, 'comp...</td>\n",
       "      <td>0.4019</td>\n",
       "      <td>pos</td>\n",
       "    </tr>\n",
       "    <tr>\n",
       "      <th>...</th>\n",
       "      <td>...</td>\n",
       "      <td>...</td>\n",
       "      <td>...</td>\n",
       "      <td>...</td>\n",
       "      <td>...</td>\n",
       "      <td>...</td>\n",
       "      <td>...</td>\n",
       "    </tr>\n",
       "    <tr>\n",
       "      <th>1994</th>\n",
       "      <td>en</td>\n",
       "      <td>Boston, MA</td>\n",
       "      <td>@defnotGG @EasterSnoopy @BankruptWebGoof @That...</td>\n",
       "      <td>@defnotGG @EasterSnoopy @BankruptWebGoof @That...</td>\n",
       "      <td>{'neg': 0.136, 'neu': 0.432, 'pos': 0.432, 'co...</td>\n",
       "      <td>0.5859</td>\n",
       "      <td>pos</td>\n",
       "    </tr>\n",
       "    <tr>\n",
       "      <th>1995</th>\n",
       "      <td>en</td>\n",
       "      <td>#BJBSJ Headquarters</td>\n",
       "      <td>@EasterSnoopy @bsp_13 @BankruptWebGoof @ThatDa...</td>\n",
       "      <td>@EasterSnoopy @bsp_13 @BankruptWebGoof @ThatDa...</td>\n",
       "      <td>{'neg': 0.248, 'neu': 0.752, 'pos': 0.0, 'comp...</td>\n",
       "      <td>-0.6065</td>\n",
       "      <td>neg</td>\n",
       "    </tr>\n",
       "    <tr>\n",
       "      <th>1998</th>\n",
       "      <td>en</td>\n",
       "      <td>Boston, MA</td>\n",
       "      <td>@BankruptWebGoof @ThatDaveBrown my mother leav...</td>\n",
       "      <td>@BankruptWebGoof @ThatDaveBrown my mother leav...</td>\n",
       "      <td>{'neg': 0.39, 'neu': 0.61, 'pos': 0.0, 'compou...</td>\n",
       "      <td>-0.2960</td>\n",
       "      <td>neg</td>\n",
       "    </tr>\n",
       "    <tr>\n",
       "      <th>1999</th>\n",
       "      <td>en</td>\n",
       "      <td>Boston,MA</td>\n",
       "      <td>@bsp_13 i enjoy your jokes</td>\n",
       "      <td>@bsp_13 i enjoy your jokes</td>\n",
       "      <td>{'neg': 0.0, 'neu': 0.278, 'pos': 0.722, 'comp...</td>\n",
       "      <td>0.6369</td>\n",
       "      <td>pos</td>\n",
       "    </tr>\n",
       "    <tr>\n",
       "      <th>2000</th>\n",
       "      <td>en</td>\n",
       "      <td>RI</td>\n",
       "      <td>@ThatDaveBrown @bsp_13 Who’s Simone?</td>\n",
       "      <td>@ThatDaveBrown @bsp_13 Who’s Simone?</td>\n",
       "      <td>{'neg': 0.0, 'neu': 1.0, 'pos': 0.0, 'compound...</td>\n",
       "      <td>0.0000</td>\n",
       "      <td>pos</td>\n",
       "    </tr>\n",
       "  </tbody>\n",
       "</table>\n",
       "<p>1468 rows × 7 columns</p>\n",
       "</div>"
      ],
      "text/plain": [
       "     language              location  \\\n",
       "0          en        Ladner, BC, 🇨🇦   \n",
       "1          en            Boston, MA   \n",
       "2          en           Buffalo, NY   \n",
       "3          en  Huntington Beach, CA   \n",
       "4          en                T-Clem   \n",
       "...       ...                   ...   \n",
       "1994       en            Boston, MA   \n",
       "1995       en  #BJBSJ Headquarters    \n",
       "1998       en            Boston, MA   \n",
       "1999       en             Boston,MA   \n",
       "2000       en                    RI   \n",
       "\n",
       "                                                   text  \\\n",
       "0     @bsp_13 ...like your head hanging upside down ...   \n",
       "1               @bsp_13 yeah back on the land line days   \n",
       "2                               @bsp_13 Omg ur smile 😊😬   \n",
       "3     @bsp_13 i do that shit when im stoned all the ...   \n",
       "4                         @mnjshaffe The BSP is special   \n",
       "...                                                 ...   \n",
       "1994  @defnotGG @EasterSnoopy @BankruptWebGoof @That...   \n",
       "1995  @EasterSnoopy @bsp_13 @BankruptWebGoof @ThatDa...   \n",
       "1998  @BankruptWebGoof @ThatDaveBrown my mother leav...   \n",
       "1999                         @bsp_13 i enjoy your jokes   \n",
       "2000               @ThatDaveBrown @bsp_13 Who’s Simone?   \n",
       "\n",
       "                                                    new  \\\n",
       "0     @bsp_13 ...like your head hanging upside down ...   \n",
       "1               @bsp_13 yeah back on the land line days   \n",
       "2                               @bsp_13 Omg ur smile 😊😬   \n",
       "3     @bsp_13 i do that shit when im stoned all the ...   \n",
       "4                         @mnjshaffe The BSP is special   \n",
       "...                                                 ...   \n",
       "1994  @defnotGG @EasterSnoopy @BankruptWebGoof @That...   \n",
       "1995  @EasterSnoopy @bsp_13 @BankruptWebGoof @ThatDa...   \n",
       "1998  @BankruptWebGoof @ThatDaveBrown my mother leav...   \n",
       "1999                         @bsp_13 i enjoy your jokes   \n",
       "2000               @ThatDaveBrown @bsp_13 Who’s Simone?   \n",
       "\n",
       "                                                 scores  compound Comp_score  \n",
       "0     {'neg': 0.0, 'neu': 1.0, 'pos': 0.0, 'compound...    0.0000        pos  \n",
       "1     {'neg': 0.0, 'neu': 0.761, 'pos': 0.239, 'comp...    0.2960        pos  \n",
       "2     {'neg': 0.0, 'neu': 0.615, 'pos': 0.385, 'comp...    0.3612        pos  \n",
       "3     {'neg': 0.286, 'neu': 0.714, 'pos': 0.0, 'comp...   -0.5574        neg  \n",
       "4     {'neg': 0.0, 'neu': 0.597, 'pos': 0.403, 'comp...    0.4019        pos  \n",
       "...                                                 ...       ...        ...  \n",
       "1994  {'neg': 0.136, 'neu': 0.432, 'pos': 0.432, 'co...    0.5859        pos  \n",
       "1995  {'neg': 0.248, 'neu': 0.752, 'pos': 0.0, 'comp...   -0.6065        neg  \n",
       "1998  {'neg': 0.39, 'neu': 0.61, 'pos': 0.0, 'compou...   -0.2960        neg  \n",
       "1999  {'neg': 0.0, 'neu': 0.278, 'pos': 0.722, 'comp...    0.6369        pos  \n",
       "2000  {'neg': 0.0, 'neu': 1.0, 'pos': 0.0, 'compound...    0.0000        pos  \n",
       "\n",
       "[1468 rows x 7 columns]"
      ]
     },
     "execution_count": 23,
     "metadata": {},
     "output_type": "execute_result"
    }
   ],
   "source": [
    "file # Displaying New File"
   ]
  },
  {
   "cell_type": "markdown",
   "metadata": {},
   "source": [
    "# Data Visualization"
   ]
  },
  {
   "cell_type": "code",
   "execution_count": 24,
   "metadata": {},
   "outputs": [
    {
     "data": {
      "image/png": "[encoded data removed]",
      "text/plain": [
       "<Figure size 432x288 with 1 Axes>"
      ]
     },
     "metadata": {
      "needs_background": "light"
     },
     "output_type": "display_data"
    }
   ],
   "source": [
    "file['Comp_score'].value_counts().plot(kind='barh')\n",
    "plt.ylabel('Polarity') # Labeling y-axis\n",
    "plt.xlabel(\"No of Tweets\") # labeling x-axis\n",
    "plt.show() # Display data in the form of Graph"
   ]
  },
  {
   "cell_type": "markdown",
   "metadata": {},
   "source": [
    "# Appling Different Sentiment Algorithm for testing their Accuracy"
   ]
  },
  {
   "cell_type": "markdown",
   "metadata": {},
   "source": [
    "#### Dataset used here for testing and traing different Sentiment Algorithm is \"Amazon Review Dataset\""
   ]
  },
  {
   "cell_type": "markdown",
   "metadata": {},
   "source": [
    "## Data Manupulation"
   ]
  },
  {
   "cell_type": "code",
   "execution_count": 3,
   "metadata": {},
   "outputs": [],
   "source": [
    "raw_data = pd.read_csv(\"tweets1.csv\") # Loading amazonreview dataset"
   ]
  },
  {
   "cell_type": "code",
   "execution_count": 4,
   "metadata": {},
   "outputs": [],
   "source": [
    "from sklearn.model_selection import train_test_split # inporting library\n",
    "x_train, x_test, y_train, y_test = train_test_split(raw_data['text'], raw_data['label'], test_size=0.2, random_state=5) # splitting data into test and train"
   ]
  },
  {
   "cell_type": "code",
   "execution_count": 5,
   "metadata": {},
   "outputs": [
    {
     "data": {
      "text/plain": [
       "Index(['tweet_id', 'label', 'airline_sentiment_confidence', 'negativereason',\n",
       "       'negativereason_confidence', 'airline', 'airline_sentiment_gold',\n",
       "       'name', 'text', 'tweet_created', 'tweet_location', 'user_timezone'],\n",
       "      dtype='object')"
      ]
     },
     "execution_count": 5,
     "metadata": {},
     "output_type": "execute_result"
    }
   ],
   "source": [
    "raw_data.keys() # Displaying information"
   ]
  },
  {
   "cell_type": "code",
   "execution_count": 6,
   "metadata": {},
   "outputs": [
    {
     "name": "stdout",
     "output_type": "stream",
     "text": [
      "<class 'pandas.core.frame.DataFrame'>\n",
      "RangeIndex: 14640 entries, 0 to 14639\n",
      "Data columns (total 12 columns):\n",
      " #   Column                        Non-Null Count  Dtype  \n",
      "---  ------                        --------------  -----  \n",
      " 0   tweet_id                      14640 non-null  float64\n",
      " 1   label                         14640 non-null  object \n",
      " 2   airline_sentiment_confidence  14640 non-null  float64\n",
      " 3   negativereason                9178 non-null   object \n",
      " 4   negativereason_confidence     10522 non-null  float64\n",
      " 5   airline                       14640 non-null  object \n",
      " 6   airline_sentiment_gold        40 non-null     object \n",
      " 7   name                          14640 non-null  object \n",
      " 8   text                          14640 non-null  object \n",
      " 9   tweet_created                 14640 non-null  object \n",
      " 10  tweet_location                9907 non-null   object \n",
      " 11  user_timezone                 9820 non-null   object \n",
      "dtypes: float64(3), object(9)\n",
      "memory usage: 1.3+ MB\n"
     ]
    }
   ],
   "source": [
    "raw_data.info()"
   ]
  },
  {
   "cell_type": "code",
   "execution_count": 7,
   "metadata": {},
   "outputs": [
    {
     "data": {
      "text/plain": [
       "(14640, 12)"
      ]
     },
     "execution_count": 7,
     "metadata": {},
     "output_type": "execute_result"
    }
   ],
   "source": [
    "raw_data.shape # Displaying Shape"
   ]
  },
  {
   "cell_type": "code",
   "execution_count": 8,
   "metadata": {},
   "outputs": [
    {
     "data": {
      "text/html": [
       "<div>\n",
       "<style scoped>\n",
       "    .dataframe tbody tr th:only-of-type {\n",
       "        vertical-align: middle;\n",
       "    }\n",
       "\n",
       "    .dataframe tbody tr th {\n",
       "        vertical-align: top;\n",
       "    }\n",
       "\n",
       "    .dataframe thead th {\n",
       "        text-align: right;\n",
       "    }\n",
       "</style>\n",
       "<table border=\"1\" class=\"dataframe\">\n",
       "  <thead>\n",
       "    <tr style=\"text-align: right;\">\n",
       "      <th></th>\n",
       "      <th>tweet_id</th>\n",
       "      <th>airline_sentiment_confidence</th>\n",
       "      <th>negativereason_confidence</th>\n",
       "    </tr>\n",
       "  </thead>\n",
       "  <tbody>\n",
       "    <tr>\n",
       "      <th>count</th>\n",
       "      <td>1.464000e+04</td>\n",
       "      <td>14640.000000</td>\n",
       "      <td>10522.000000</td>\n",
       "    </tr>\n",
       "    <tr>\n",
       "      <th>mean</th>\n",
       "      <td>5.692605e+17</td>\n",
       "      <td>0.900169</td>\n",
       "      <td>0.638298</td>\n",
       "    </tr>\n",
       "    <tr>\n",
       "      <th>std</th>\n",
       "      <td>8.098842e+14</td>\n",
       "      <td>0.162830</td>\n",
       "      <td>0.330440</td>\n",
       "    </tr>\n",
       "    <tr>\n",
       "      <th>min</th>\n",
       "      <td>5.680000e+17</td>\n",
       "      <td>0.335000</td>\n",
       "      <td>0.000000</td>\n",
       "    </tr>\n",
       "    <tr>\n",
       "      <th>25%</th>\n",
       "      <td>5.690000e+17</td>\n",
       "      <td>0.692300</td>\n",
       "      <td>0.360600</td>\n",
       "    </tr>\n",
       "    <tr>\n",
       "      <th>50%</th>\n",
       "      <td>5.690000e+17</td>\n",
       "      <td>1.000000</td>\n",
       "      <td>0.670600</td>\n",
       "    </tr>\n",
       "    <tr>\n",
       "      <th>75%</th>\n",
       "      <td>5.700000e+17</td>\n",
       "      <td>1.000000</td>\n",
       "      <td>1.000000</td>\n",
       "    </tr>\n",
       "    <tr>\n",
       "      <th>max</th>\n",
       "      <td>5.700000e+17</td>\n",
       "      <td>1.000000</td>\n",
       "      <td>1.000000</td>\n",
       "    </tr>\n",
       "  </tbody>\n",
       "</table>\n",
       "</div>"
      ],
      "text/plain": [
       "           tweet_id  airline_sentiment_confidence  negativereason_confidence\n",
       "count  1.464000e+04                  14640.000000               10522.000000\n",
       "mean   5.692605e+17                      0.900169                   0.638298\n",
       "std    8.098842e+14                      0.162830                   0.330440\n",
       "min    5.680000e+17                      0.335000                   0.000000\n",
       "25%    5.690000e+17                      0.692300                   0.360600\n",
       "50%    5.690000e+17                      1.000000                   0.670600\n",
       "75%    5.700000e+17                      1.000000                   1.000000\n",
       "max    5.700000e+17                      1.000000                   1.000000"
      ]
     },
     "execution_count": 8,
     "metadata": {},
     "output_type": "execute_result"
    }
   ],
   "source": [
    "raw_data.describe() # Decribing data"
   ]
  },
  {
   "cell_type": "code",
   "execution_count": 9,
   "metadata": {},
   "outputs": [
    {
     "data": {
      "text/plain": [
       "tweet_id                            0\n",
       "label                               0\n",
       "airline_sentiment_confidence        0\n",
       "negativereason                   5462\n",
       "negativereason_confidence        4118\n",
       "airline                             0\n",
       "airline_sentiment_gold          14600\n",
       "name                                0\n",
       "text                                0\n",
       "tweet_created                       0\n",
       "tweet_location                   4733\n",
       "user_timezone                    4820\n",
       "dtype: int64"
      ]
     },
     "execution_count": 9,
     "metadata": {},
     "output_type": "execute_result"
    }
   ],
   "source": [
    "raw_data.isnull().sum()"
   ]
  },
  {
   "cell_type": "code",
   "execution_count": 10,
   "metadata": {},
   "outputs": [
    {
     "data": {
      "text/html": [
       "<div>\n",
       "<style scoped>\n",
       "    .dataframe tbody tr th:only-of-type {\n",
       "        vertical-align: middle;\n",
       "    }\n",
       "\n",
       "    .dataframe tbody tr th {\n",
       "        vertical-align: top;\n",
       "    }\n",
       "\n",
       "    .dataframe thead th {\n",
       "        text-align: right;\n",
       "    }\n",
       "</style>\n",
       "<table border=\"1\" class=\"dataframe\">\n",
       "  <thead>\n",
       "    <tr style=\"text-align: right;\">\n",
       "      <th></th>\n",
       "      <th>tweet_id</th>\n",
       "      <th>label</th>\n",
       "      <th>airline_sentiment_confidence</th>\n",
       "      <th>negativereason</th>\n",
       "      <th>negativereason_confidence</th>\n",
       "      <th>airline</th>\n",
       "      <th>airline_sentiment_gold</th>\n",
       "      <th>name</th>\n",
       "      <th>text</th>\n",
       "      <th>tweet_created</th>\n",
       "      <th>tweet_location</th>\n",
       "      <th>user_timezone</th>\n",
       "    </tr>\n",
       "  </thead>\n",
       "  <tbody>\n",
       "    <tr>\n",
       "      <th>0</th>\n",
       "      <td>5.700000e+17</td>\n",
       "      <td>positive</td>\n",
       "      <td>1.0000</td>\n",
       "      <td>NaN</td>\n",
       "      <td>NaN</td>\n",
       "      <td>Virgin America</td>\n",
       "      <td>NaN</td>\n",
       "      <td>cairdin</td>\n",
       "      <td>@VirginAmerica What @dhepburn said.</td>\n",
       "      <td>24-02-2015 11:35</td>\n",
       "      <td>NaN</td>\n",
       "      <td>Eastern Time (US &amp; Canada)</td>\n",
       "    </tr>\n",
       "    <tr>\n",
       "      <th>1</th>\n",
       "      <td>5.700000e+17</td>\n",
       "      <td>positive</td>\n",
       "      <td>0.3486</td>\n",
       "      <td>NaN</td>\n",
       "      <td>0.0000</td>\n",
       "      <td>Virgin America</td>\n",
       "      <td>NaN</td>\n",
       "      <td>jnardino</td>\n",
       "      <td>@VirginAmerica plus you've added commercials t...</td>\n",
       "      <td>24-02-2015 11:15</td>\n",
       "      <td>NaN</td>\n",
       "      <td>Pacific Time (US &amp; Canada)</td>\n",
       "    </tr>\n",
       "    <tr>\n",
       "      <th>2</th>\n",
       "      <td>5.700000e+17</td>\n",
       "      <td>positive</td>\n",
       "      <td>0.6837</td>\n",
       "      <td>NaN</td>\n",
       "      <td>NaN</td>\n",
       "      <td>Virgin America</td>\n",
       "      <td>NaN</td>\n",
       "      <td>yvonnalynn</td>\n",
       "      <td>@VirginAmerica I didn't today... Must mean I n...</td>\n",
       "      <td>24-02-2015 11:15</td>\n",
       "      <td>Lets Play</td>\n",
       "      <td>Central Time (US &amp; Canada)</td>\n",
       "    </tr>\n",
       "    <tr>\n",
       "      <th>3</th>\n",
       "      <td>5.700000e+17</td>\n",
       "      <td>negative</td>\n",
       "      <td>1.0000</td>\n",
       "      <td>Bad Flight</td>\n",
       "      <td>0.7033</td>\n",
       "      <td>Virgin America</td>\n",
       "      <td>NaN</td>\n",
       "      <td>jnardino</td>\n",
       "      <td>@VirginAmerica it's really aggressive to blast...</td>\n",
       "      <td>24-02-2015 11:15</td>\n",
       "      <td>NaN</td>\n",
       "      <td>Pacific Time (US &amp; Canada)</td>\n",
       "    </tr>\n",
       "    <tr>\n",
       "      <th>4</th>\n",
       "      <td>5.700000e+17</td>\n",
       "      <td>negative</td>\n",
       "      <td>1.0000</td>\n",
       "      <td>Can't Tell</td>\n",
       "      <td>1.0000</td>\n",
       "      <td>Virgin America</td>\n",
       "      <td>NaN</td>\n",
       "      <td>jnardino</td>\n",
       "      <td>@VirginAmerica and it's a really big bad thing...</td>\n",
       "      <td>24-02-2015 11:14</td>\n",
       "      <td>NaN</td>\n",
       "      <td>Pacific Time (US &amp; Canada)</td>\n",
       "    </tr>\n",
       "    <tr>\n",
       "      <th>...</th>\n",
       "      <td>...</td>\n",
       "      <td>...</td>\n",
       "      <td>...</td>\n",
       "      <td>...</td>\n",
       "      <td>...</td>\n",
       "      <td>...</td>\n",
       "      <td>...</td>\n",
       "      <td>...</td>\n",
       "      <td>...</td>\n",
       "      <td>...</td>\n",
       "      <td>...</td>\n",
       "      <td>...</td>\n",
       "    </tr>\n",
       "    <tr>\n",
       "      <th>14635</th>\n",
       "      <td>5.700000e+17</td>\n",
       "      <td>positive</td>\n",
       "      <td>0.3487</td>\n",
       "      <td>NaN</td>\n",
       "      <td>0.0000</td>\n",
       "      <td>American</td>\n",
       "      <td>NaN</td>\n",
       "      <td>KristenReenders</td>\n",
       "      <td>@AmericanAir thank you we got on a different f...</td>\n",
       "      <td>22-02-2015 12:01</td>\n",
       "      <td>NaN</td>\n",
       "      <td>NaN</td>\n",
       "    </tr>\n",
       "    <tr>\n",
       "      <th>14636</th>\n",
       "      <td>5.700000e+17</td>\n",
       "      <td>negative</td>\n",
       "      <td>1.0000</td>\n",
       "      <td>Customer Service Issue</td>\n",
       "      <td>1.0000</td>\n",
       "      <td>American</td>\n",
       "      <td>NaN</td>\n",
       "      <td>itsropes</td>\n",
       "      <td>@AmericanAir leaving over 20 minutes Late Flig...</td>\n",
       "      <td>22-02-2015 11:59</td>\n",
       "      <td>Texas</td>\n",
       "      <td>NaN</td>\n",
       "    </tr>\n",
       "    <tr>\n",
       "      <th>14637</th>\n",
       "      <td>5.700000e+17</td>\n",
       "      <td>positive</td>\n",
       "      <td>1.0000</td>\n",
       "      <td>NaN</td>\n",
       "      <td>NaN</td>\n",
       "      <td>American</td>\n",
       "      <td>NaN</td>\n",
       "      <td>sanyabun</td>\n",
       "      <td>@AmericanAir Please bring American Airlines to...</td>\n",
       "      <td>22-02-2015 11:59</td>\n",
       "      <td>Nigeria,lagos</td>\n",
       "      <td>NaN</td>\n",
       "    </tr>\n",
       "    <tr>\n",
       "      <th>14638</th>\n",
       "      <td>5.700000e+17</td>\n",
       "      <td>negative</td>\n",
       "      <td>1.0000</td>\n",
       "      <td>Customer Service Issue</td>\n",
       "      <td>0.6659</td>\n",
       "      <td>American</td>\n",
       "      <td>NaN</td>\n",
       "      <td>SraJackson</td>\n",
       "      <td>@AmericanAir you have my money, you change my ...</td>\n",
       "      <td>22-02-2015 11:59</td>\n",
       "      <td>New Jersey</td>\n",
       "      <td>Eastern Time (US &amp; Canada)</td>\n",
       "    </tr>\n",
       "    <tr>\n",
       "      <th>14639</th>\n",
       "      <td>5.700000e+17</td>\n",
       "      <td>positive</td>\n",
       "      <td>0.6771</td>\n",
       "      <td>NaN</td>\n",
       "      <td>0.0000</td>\n",
       "      <td>American</td>\n",
       "      <td>NaN</td>\n",
       "      <td>daviddtwu</td>\n",
       "      <td>@AmericanAir we have 8 ppl so we need 2 know h...</td>\n",
       "      <td>22-02-2015 11:58</td>\n",
       "      <td>dallas, TX</td>\n",
       "      <td>NaN</td>\n",
       "    </tr>\n",
       "  </tbody>\n",
       "</table>\n",
       "<p>14640 rows × 12 columns</p>\n",
       "</div>"
      ],
      "text/plain": [
       "           tweet_id     label  airline_sentiment_confidence  \\\n",
       "0      5.700000e+17  positive                        1.0000   \n",
       "1      5.700000e+17  positive                        0.3486   \n",
       "2      5.700000e+17  positive                        0.6837   \n",
       "3      5.700000e+17  negative                        1.0000   \n",
       "4      5.700000e+17  negative                        1.0000   \n",
       "...             ...       ...                           ...   \n",
       "14635  5.700000e+17  positive                        0.3487   \n",
       "14636  5.700000e+17  negative                        1.0000   \n",
       "14637  5.700000e+17  positive                        1.0000   \n",
       "14638  5.700000e+17  negative                        1.0000   \n",
       "14639  5.700000e+17  positive                        0.6771   \n",
       "\n",
       "               negativereason  negativereason_confidence         airline  \\\n",
       "0                         NaN                        NaN  Virgin America   \n",
       "1                         NaN                     0.0000  Virgin America   \n",
       "2                         NaN                        NaN  Virgin America   \n",
       "3                  Bad Flight                     0.7033  Virgin America   \n",
       "4                  Can't Tell                     1.0000  Virgin America   \n",
       "...                       ...                        ...             ...   \n",
       "14635                     NaN                     0.0000        American   \n",
       "14636  Customer Service Issue                     1.0000        American   \n",
       "14637                     NaN                        NaN        American   \n",
       "14638  Customer Service Issue                     0.6659        American   \n",
       "14639                     NaN                     0.0000        American   \n",
       "\n",
       "      airline_sentiment_gold             name  \\\n",
       "0                        NaN          cairdin   \n",
       "1                        NaN         jnardino   \n",
       "2                        NaN       yvonnalynn   \n",
       "3                        NaN         jnardino   \n",
       "4                        NaN         jnardino   \n",
       "...                      ...              ...   \n",
       "14635                    NaN  KristenReenders   \n",
       "14636                    NaN         itsropes   \n",
       "14637                    NaN         sanyabun   \n",
       "14638                    NaN       SraJackson   \n",
       "14639                    NaN        daviddtwu   \n",
       "\n",
       "                                                    text     tweet_created  \\\n",
       "0                    @VirginAmerica What @dhepburn said.  24-02-2015 11:35   \n",
       "1      @VirginAmerica plus you've added commercials t...  24-02-2015 11:15   \n",
       "2      @VirginAmerica I didn't today... Must mean I n...  24-02-2015 11:15   \n",
       "3      @VirginAmerica it's really aggressive to blast...  24-02-2015 11:15   \n",
       "4      @VirginAmerica and it's a really big bad thing...  24-02-2015 11:14   \n",
       "...                                                  ...               ...   \n",
       "14635  @AmericanAir thank you we got on a different f...  22-02-2015 12:01   \n",
       "14636  @AmericanAir leaving over 20 minutes Late Flig...  22-02-2015 11:59   \n",
       "14637  @AmericanAir Please bring American Airlines to...  22-02-2015 11:59   \n",
       "14638  @AmericanAir you have my money, you change my ...  22-02-2015 11:59   \n",
       "14639  @AmericanAir we have 8 ppl so we need 2 know h...  22-02-2015 11:58   \n",
       "\n",
       "      tweet_location               user_timezone  \n",
       "0                NaN  Eastern Time (US & Canada)  \n",
       "1                NaN  Pacific Time (US & Canada)  \n",
       "2          Lets Play  Central Time (US & Canada)  \n",
       "3                NaN  Pacific Time (US & Canada)  \n",
       "4                NaN  Pacific Time (US & Canada)  \n",
       "...              ...                         ...  \n",
       "14635            NaN                         NaN  \n",
       "14636          Texas                         NaN  \n",
       "14637  Nigeria,lagos                         NaN  \n",
       "14638     New Jersey  Eastern Time (US & Canada)  \n",
       "14639     dallas, TX                         NaN  \n",
       "\n",
       "[14640 rows x 12 columns]"
      ]
     },
     "execution_count": 10,
     "metadata": {},
     "output_type": "execute_result"
    }
   ],
   "source": [
    "raw_data"
   ]
  },
  {
   "cell_type": "code",
   "execution_count": 11,
   "metadata": {},
   "outputs": [
    {
     "data": {
      "text/plain": [
       "11650    @USAirways 1 1/2 hours on hold to customer ser...\n",
       "612          @united thanks for the info I already knew...\n",
       "5074     @SouthwestAir flying flight 3130 tomorrow at 7...\n",
       "6644     @SouthwestAir are you kidding me?  I needed he...\n",
       "3285      @united happens every time in and out of Newark.\n",
       "                               ...                        \n",
       "3046     @united gates were DEFINITELY NOT FULL. We wer...\n",
       "9917     @USAirways No I need the corporate office numb...\n",
       "4079     @united was told by Supervisor that United dis...\n",
       "2254     @united how come a $27 shuttle bus from LGA to...\n",
       "2915                             @united well played, ^LO.\n",
       "Name: text, Length: 10248, dtype: object"
      ]
     },
     "execution_count": 11,
     "metadata": {},
     "output_type": "execute_result"
    }
   ],
   "source": [
    "x_train"
   ]
  },
  {
   "cell_type": "code",
   "execution_count": 12,
   "metadata": {},
   "outputs": [
    {
     "data": {
      "text/plain": [
       "111      @VirginAmerica has getaway deals through May, ...\n",
       "9369     @USAirways Thanks but when I asked for a chang...\n",
       "3113                     @united maybe on my return trip 👍\n",
       "7235     @JetBlue no I asked. Either way it doesn't mak...\n",
       "5002     @SouthwestAir Totally ruined my birthday weeke...\n",
       "                               ...                        \n",
       "9560     @USAirways @AmericanAir I need to move a reser...\n",
       "6952     @JetBlue @MrJustyn I heard companies were stud...\n",
       "1260     @united I have been told twice my issue has be...\n",
       "11513    @USAirways YOU ARE THE BEST!!! FOLLOW ME PLEAS...\n",
       "774      @united that's unfortunate. The @Tumitravel wa...\n",
       "Name: text, Length: 4392, dtype: object"
      ]
     },
     "execution_count": 12,
     "metadata": {},
     "output_type": "execute_result"
    }
   ],
   "source": [
    "x_test"
   ]
  },
  {
   "cell_type": "code",
   "execution_count": 13,
   "metadata": {},
   "outputs": [
    {
     "data": {
      "text/plain": [
       "11650    negative\n",
       "612      positive\n",
       "5074     positive\n",
       "6644     negative\n",
       "3285     positive\n",
       "           ...   \n",
       "3046     negative\n",
       "9917     positive\n",
       "4079     negative\n",
       "2254     negative\n",
       "2915     positive\n",
       "Name: label, Length: 10248, dtype: object"
      ]
     },
     "execution_count": 13,
     "metadata": {},
     "output_type": "execute_result"
    }
   ],
   "source": [
    "y_train"
   ]
  },
  {
   "cell_type": "code",
   "execution_count": 26,
   "metadata": {},
   "outputs": [
    {
     "data": {
      "text/plain": [
       "111      positive\n",
       "9369     negative\n",
       "3113     positive\n",
       "7235     negative\n",
       "5002     negative\n",
       "           ...   \n",
       "3943     negative\n",
       "14471    negative\n",
       "12680    negative\n",
       "4462     positive\n",
       "11876    negative\n",
       "Name: label, Length: 2928, dtype: object"
      ]
     },
     "execution_count": 26,
     "metadata": {},
     "output_type": "execute_result"
    }
   ],
   "source": [
    "y_test"
   ]
  },
  {
   "cell_type": "markdown",
   "metadata": {},
   "source": [
    "## Vader Algorithm"
   ]
  },
  {
   "cell_type": "code",
   "execution_count": 27,
   "metadata": {},
   "outputs": [],
   "source": [
    "from sklearn.metrics import confusion_matrix, classification_report, accuracy_score\n",
    "import matplotlib.pyplot as plt\n",
    "import seaborn as sns"
   ]
  },
  {
   "cell_type": "code",
   "execution_count": 28,
   "metadata": {},
   "outputs": [],
   "source": [
    "raw_data['scores'] = raw_data['text'].apply(lambda reviews: samarth.polarity_scores(reviews))\n",
    "raw_data['compound'] = raw_data['scores'].apply(lambda score_dict: score_dict[\"compound\"])\n",
    "raw_data['Comp_score'] = raw_data['compound'].apply(lambda score: \"positive\" if score>=0 else \"negative\")"
   ]
  },
  {
   "cell_type": "code",
   "execution_count": 29,
   "metadata": {},
   "outputs": [
    {
     "data": {
      "text/plain": [
       "array([[4627, 4551],\n",
       "       [ 526, 4936]], dtype=int64)"
      ]
     },
     "execution_count": 29,
     "metadata": {},
     "output_type": "execute_result"
    }
   ],
   "source": [
    "cm = confusion_matrix(raw_data['label'], raw_data['Comp_score']) # confusion matrix\n",
    "cm"
   ]
  },
  {
   "cell_type": "code",
   "execution_count": 30,
   "metadata": {},
   "outputs": [
    {
     "data": {
      "text/plain": [
       "'              precision    recall  f1-score   support\\n\\n    negative       0.90      0.50      0.65      9178\\n    positive       0.52      0.90      0.66      5462\\n\\n    accuracy                           0.65     14640\\n   macro avg       0.71      0.70      0.65     14640\\nweighted avg       0.76      0.65      0.65     14640\\n'"
      ]
     },
     "execution_count": 30,
     "metadata": {},
     "output_type": "execute_result"
    }
   ],
   "source": [
    "classification_report(raw_data['label'], raw_data['Comp_score']) # classification report"
   ]
  },
  {
   "cell_type": "code",
   "execution_count": 31,
   "metadata": {},
   "outputs": [
    {
     "data": {
      "text/plain": [
       "0.6532103825136611"
      ]
     },
     "execution_count": 31,
     "metadata": {},
     "output_type": "execute_result"
    }
   ],
   "source": [
    "accuracy_score(raw_data['label'], raw_data['Comp_score']) # accuracy"
   ]
  },
  {
   "cell_type": "code",
   "execution_count": 32,
   "metadata": {},
   "outputs": [
    {
     "data": {
      "image/png": "[encoded data removed]",
      "text/plain": [
       "<Figure size 432x288 with 2 Axes>"
      ]
     },
     "metadata": {
      "needs_background": "light"
     },
     "output_type": "display_data"
    }
   ],
   "source": [
    "# Visualization of Confusion Matrix\n",
    "plt.title('Heatmap of Confusion Matrix', fontsize = 15)\n",
    "sns.heatmap(cm, annot = True)\n",
    "plt.show()"
   ]
  },
  {
   "cell_type": "markdown",
   "metadata": {},
   "source": [
    "## Support vector classifier"
   ]
  },
  {
   "cell_type": "code",
   "execution_count": 33,
   "metadata": {},
   "outputs": [],
   "source": [
    "from sklearn import svm # importing Support vector classifier"
   ]
  },
  {
   "cell_type": "code",
   "execution_count": 34,
   "metadata": {},
   "outputs": [],
   "source": [
    "from sklearn.feature_extraction.text import TfidfVectorizer\n",
    "# Create feature vectors\n",
    "vectorizer = TfidfVectorizer(min_df = 5,\n",
    "                             max_df = 0.8,\n",
    "                             sublinear_tf = True,\n",
    "                             use_idf = True)\n",
    "train_vectors = vectorizer.fit_transform(raw_data['text'])\n",
    "test_vectors = vectorizer.transform(raw_data['text'])"
   ]
  },
  {
   "cell_type": "code",
   "execution_count": 35,
   "metadata": {},
   "outputs": [],
   "source": [
    "classifier_linear = svm.SVC(kernel='linear')\n",
    "classifier_linear.fit(train_vectors, raw_data['label']) # training\n",
    "prediction_linear = classifier_linear.predict(test_vectors) # testing"
   ]
  },
  {
   "cell_type": "code",
   "execution_count": 36,
   "metadata": {},
   "outputs": [
    {
     "data": {
      "text/plain": [
       "{'negative': {'precision': 0.900856665273715,\n",
       "  'recall': 0.9395293092176945,\n",
       "  'f1-score': 0.9197866666666666,\n",
       "  'support': 9178},\n",
       " 'positive': {'precision': 0.8904893449092344,\n",
       "  'recall': 0.8262541193701941,\n",
       "  'f1-score': 0.8571699905033239,\n",
       "  'support': 5462},\n",
       " 'accuracy': 0.8972677595628415,\n",
       " 'macro avg': {'precision': 0.8956730050914747,\n",
       "  'recall': 0.8828917142939443,\n",
       "  'f1-score': 0.8884783285849953,\n",
       "  'support': 14640},\n",
       " 'weighted avg': {'precision': 0.8969887483453822,\n",
       "  'recall': 0.8972677595628415,\n",
       "  'f1-score': 0.8964251717756709,\n",
       "  'support': 14640}}"
      ]
     },
     "execution_count": 36,
     "metadata": {},
     "output_type": "execute_result"
    }
   ],
   "source": [
    "classification_report(raw_data['label'], prediction_linear, output_dict=True) # classification report"
   ]
  },
  {
   "cell_type": "code",
   "execution_count": 37,
   "metadata": {},
   "outputs": [
    {
     "data": {
      "text/plain": [
       "0.8972677595628415"
      ]
     },
     "execution_count": 37,
     "metadata": {},
     "output_type": "execute_result"
    }
   ],
   "source": [
    "accuracy_score(raw_data['label'], prediction_linear) # accuracy"
   ]
  },
  {
   "cell_type": "code",
   "execution_count": 38,
   "metadata": {},
   "outputs": [
    {
     "data": {
      "text/plain": [
       "array([[8623,  555],\n",
       "       [ 949, 4513]], dtype=int64)"
      ]
     },
     "execution_count": 38,
     "metadata": {},
     "output_type": "execute_result"
    }
   ],
   "source": [
    "cm = confusion_matrix(raw_data['label'], prediction_linear) # confusion matrix\n",
    "cm"
   ]
  },
  {
   "cell_type": "code",
   "execution_count": 39,
   "metadata": {},
   "outputs": [
    {
     "data": {
      "image/png": "[encoded data removed]",
      "text/plain": [
       "<Figure size 432x288 with 2 Axes>"
      ]
     },
     "metadata": {
      "needs_background": "light"
     },
     "output_type": "display_data"
    }
   ],
   "source": [
    "# Visualization of Confusion Matrix\n",
    "plt.title('Heatmap of Confusion Matrix', fontsize = 15)\n",
    "sns.heatmap(cm, annot = True)\n",
    "plt.show()"
   ]
  },
  {
   "cell_type": "markdown",
   "metadata": {},
   "source": [
    "## Naive_Bayes"
   ]
  },
  {
   "cell_type": "code",
   "execution_count": 40,
   "metadata": {},
   "outputs": [],
   "source": [
    "from sklearn.pipeline import Pipeline\n",
    "from sklearn.naive_bayes import MultinomialNB\n",
    "from sklearn.feature_extraction.text import CountVectorizer, TfidfTransformer\n",
    "from sklearn.model_selection import train_test_split, GridSearchCV\n",
    "text_clf = Pipeline([('vect', CountVectorizer()),\n",
    "                     ('tfidf', TfidfTransformer()),\n",
    "                     ('clf', MultinomialNB())])\n",
    "tuned_parameters = {\n",
    "    'vect__ngram_range': [(1, 1), (1, 2), (2, 2)],\n",
    "    'tfidf__use_idf': (True, False),\n",
    "    'tfidf__norm': ('l1', 'l2'),\n",
    "    'clf__alpha': [1, 1e-1, 1e-2]\n",
    "}"
   ]
  },
  {
   "cell_type": "code",
   "execution_count": 41,
   "metadata": {},
   "outputs": [
    {
     "name": "stdout",
     "output_type": "stream",
     "text": [
      "# Tuning hyper-parameters for f1_macro\n",
      "\n",
      "Best parameters set found on development set:\n",
      "\n",
      "{'clf__alpha': 0.01, 'tfidf__norm': 'l2', 'tfidf__use_idf': False, 'vect__ngram_range': (1, 2)}\n",
      "\n",
      "Grid scores on development set:\n",
      "\n",
      "0.475 (+/-0.013) for {'clf__alpha': 1, 'tfidf__norm': 'l1', 'tfidf__use_idf': True, 'vect__ngram_range': (1, 1)}\n",
      "0.460 (+/-0.019) for {'clf__alpha': 1, 'tfidf__norm': 'l1', 'tfidf__use_idf': True, 'vect__ngram_range': (1, 2)}\n",
      "0.494 (+/-0.026) for {'clf__alpha': 1, 'tfidf__norm': 'l1', 'tfidf__use_idf': True, 'vect__ngram_range': (2, 2)}\n",
      "0.462 (+/-0.022) for {'clf__alpha': 1, 'tfidf__norm': 'l1', 'tfidf__use_idf': False, 'vect__ngram_range': (1, 1)}\n",
      "0.454 (+/-0.020) for {'clf__alpha': 1, 'tfidf__norm': 'l1', 'tfidf__use_idf': False, 'vect__ngram_range': (1, 2)}\n",
      "0.506 (+/-0.029) for {'clf__alpha': 1, 'tfidf__norm': 'l1', 'tfidf__use_idf': False, 'vect__ngram_range': (2, 2)}\n",
      "0.690 (+/-0.029) for {'clf__alpha': 1, 'tfidf__norm': 'l2', 'tfidf__use_idf': True, 'vect__ngram_range': (1, 1)}\n",
      "0.640 (+/-0.030) for {'clf__alpha': 1, 'tfidf__norm': 'l2', 'tfidf__use_idf': True, 'vect__ngram_range': (1, 2)}\n",
      "0.665 (+/-0.029) for {'clf__alpha': 1, 'tfidf__norm': 'l2', 'tfidf__use_idf': True, 'vect__ngram_range': (2, 2)}\n",
      "0.652 (+/-0.026) for {'clf__alpha': 1, 'tfidf__norm': 'l2', 'tfidf__use_idf': False, 'vect__ngram_range': (1, 1)}\n",
      "0.597 (+/-0.028) for {'clf__alpha': 1, 'tfidf__norm': 'l2', 'tfidf__use_idf': False, 'vect__ngram_range': (1, 2)}\n",
      "0.666 (+/-0.029) for {'clf__alpha': 1, 'tfidf__norm': 'l2', 'tfidf__use_idf': False, 'vect__ngram_range': (2, 2)}\n",
      "0.614 (+/-0.025) for {'clf__alpha': 0.1, 'tfidf__norm': 'l1', 'tfidf__use_idf': True, 'vect__ngram_range': (1, 1)}\n",
      "0.568 (+/-0.022) for {'clf__alpha': 0.1, 'tfidf__norm': 'l1', 'tfidf__use_idf': True, 'vect__ngram_range': (1, 2)}\n",
      "0.642 (+/-0.023) for {'clf__alpha': 0.1, 'tfidf__norm': 'l1', 'tfidf__use_idf': True, 'vect__ngram_range': (2, 2)}\n",
      "0.570 (+/-0.021) for {'clf__alpha': 0.1, 'tfidf__norm': 'l1', 'tfidf__use_idf': False, 'vect__ngram_range': (1, 1)}\n",
      "0.535 (+/-0.016) for {'clf__alpha': 0.1, 'tfidf__norm': 'l1', 'tfidf__use_idf': False, 'vect__ngram_range': (1, 2)}\n",
      "0.638 (+/-0.028) for {'clf__alpha': 0.1, 'tfidf__norm': 'l1', 'tfidf__use_idf': False, 'vect__ngram_range': (2, 2)}\n",
      "0.772 (+/-0.014) for {'clf__alpha': 0.1, 'tfidf__norm': 'l2', 'tfidf__use_idf': True, 'vect__ngram_range': (1, 1)}\n",
      "0.786 (+/-0.015) for {'clf__alpha': 0.1, 'tfidf__norm': 'l2', 'tfidf__use_idf': True, 'vect__ngram_range': (1, 2)}\n",
      "0.765 (+/-0.023) for {'clf__alpha': 0.1, 'tfidf__norm': 'l2', 'tfidf__use_idf': True, 'vect__ngram_range': (2, 2)}\n",
      "0.771 (+/-0.011) for {'clf__alpha': 0.1, 'tfidf__norm': 'l2', 'tfidf__use_idf': False, 'vect__ngram_range': (1, 1)}\n",
      "0.775 (+/-0.017) for {'clf__alpha': 0.1, 'tfidf__norm': 'l2', 'tfidf__use_idf': False, 'vect__ngram_range': (1, 2)}\n",
      "0.765 (+/-0.025) for {'clf__alpha': 0.1, 'tfidf__norm': 'l2', 'tfidf__use_idf': False, 'vect__ngram_range': (2, 2)}\n",
      "0.672 (+/-0.033) for {'clf__alpha': 0.01, 'tfidf__norm': 'l1', 'tfidf__use_idf': True, 'vect__ngram_range': (1, 1)}\n",
      "0.697 (+/-0.035) for {'clf__alpha': 0.01, 'tfidf__norm': 'l1', 'tfidf__use_idf': True, 'vect__ngram_range': (1, 2)}\n",
      "0.720 (+/-0.025) for {'clf__alpha': 0.01, 'tfidf__norm': 'l1', 'tfidf__use_idf': True, 'vect__ngram_range': (2, 2)}\n",
      "0.631 (+/-0.025) for {'clf__alpha': 0.01, 'tfidf__norm': 'l1', 'tfidf__use_idf': False, 'vect__ngram_range': (1, 1)}\n",
      "0.663 (+/-0.025) for {'clf__alpha': 0.01, 'tfidf__norm': 'l1', 'tfidf__use_idf': False, 'vect__ngram_range': (1, 2)}\n",
      "0.718 (+/-0.023) for {'clf__alpha': 0.01, 'tfidf__norm': 'l1', 'tfidf__use_idf': False, 'vect__ngram_range': (2, 2)}\n",
      "0.764 (+/-0.018) for {'clf__alpha': 0.01, 'tfidf__norm': 'l2', 'tfidf__use_idf': True, 'vect__ngram_range': (1, 1)}\n",
      "0.791 (+/-0.017) for {'clf__alpha': 0.01, 'tfidf__norm': 'l2', 'tfidf__use_idf': True, 'vect__ngram_range': (1, 2)}\n",
      "0.760 (+/-0.020) for {'clf__alpha': 0.01, 'tfidf__norm': 'l2', 'tfidf__use_idf': True, 'vect__ngram_range': (2, 2)}\n",
      "0.774 (+/-0.017) for {'clf__alpha': 0.01, 'tfidf__norm': 'l2', 'tfidf__use_idf': False, 'vect__ngram_range': (1, 1)}\n",
      "0.798 (+/-0.017) for {'clf__alpha': 0.01, 'tfidf__norm': 'l2', 'tfidf__use_idf': False, 'vect__ngram_range': (1, 2)}\n",
      "0.765 (+/-0.020) for {'clf__alpha': 0.01, 'tfidf__norm': 'l2', 'tfidf__use_idf': False, 'vect__ngram_range': (2, 2)}\n",
      "\n"
     ]
    }
   ],
   "source": [
    "score = 'f1_macro'\n",
    "print(\"# Tuning hyper-parameters for %s\" % score)\n",
    "print()\n",
    "np.errstate(divide='ignore')\n",
    "clf = GridSearchCV(text_clf, tuned_parameters, cv=10, scoring=score)\n",
    "clf.fit(x_train, y_train)\n",
    "\n",
    "print(\"Best parameters set found on development set:\")\n",
    "print()\n",
    "print(clf.best_params_)\n",
    "print()\n",
    "print(\"Grid scores on development set:\")\n",
    "print()\n",
    "for mean, std, params in zip(clf.cv_results_['mean_test_score'], \n",
    "                             clf.cv_results_['std_test_score'], \n",
    "                             clf.cv_results_['params']):\n",
    "    print(\"%0.3f (+/-%0.03f) for %r\" % (mean, std * 2, params))\n",
    "print()\n",
    "\n",
    "\n"
   ]
  },
  {
   "cell_type": "code",
   "execution_count": 42,
   "metadata": {},
   "outputs": [
    {
     "data": {
      "text/plain": [
       "'              precision    recall  f1-score   support\\n\\n    negative     0.8214    0.9488    0.8805      1837\\n    positive     0.8834    0.6526    0.7507      1091\\n\\n    accuracy                         0.8385      2928\\n   macro avg     0.8524    0.8007    0.8156      2928\\nweighted avg     0.8445    0.8385    0.8321      2928\\n'"
      ]
     },
     "execution_count": 42,
     "metadata": {},
     "output_type": "execute_result"
    }
   ],
   "source": [
    "classification_report(y_test, clf.predict(x_test), digits=4) # classification report"
   ]
  },
  {
   "cell_type": "code",
   "execution_count": 43,
   "metadata": {},
   "outputs": [
    {
     "data": {
      "text/plain": [
       "0.8384562841530054"
      ]
     },
     "execution_count": 43,
     "metadata": {},
     "output_type": "execute_result"
    }
   ],
   "source": [
    "accuracy_score(y_test, clf.predict(x_test)) # accuracy"
   ]
  },
  {
   "cell_type": "code",
   "execution_count": 44,
   "metadata": {},
   "outputs": [
    {
     "data": {
      "text/plain": [
       "array([[1743,   94],\n",
       "       [ 379,  712]], dtype=int64)"
      ]
     },
     "execution_count": 44,
     "metadata": {},
     "output_type": "execute_result"
    }
   ],
   "source": [
    "cm = confusion_matrix(y_test, clf.predict(x_test)) # confusion matrix\n",
    "cm"
   ]
  },
  {
   "cell_type": "code",
   "execution_count": 45,
   "metadata": {},
   "outputs": [
    {
     "data": {
      "image/png": "[encoded data removed]",
      "text/plain": [
       "<Figure size 432x288 with 2 Axes>"
      ]
     },
     "metadata": {
      "needs_background": "light"
     },
     "output_type": "display_data"
    }
   ],
   "source": [
    "# Visualization of Confusion Matrix\n",
    "plt.title('Heatmap of Confusion Matrix', fontsize = 15)\n",
    "sns.heatmap(cm, annot = True)\n",
    "plt.show()"
   ]
  },
  {
   "cell_type": "code",
   "execution_count": null,
   "metadata": {},
   "outputs": [],
   "source": []
  }
 ],
 "metadata": {
  "kernelspec": {
   "display_name": "Python 3",
   "language": "python",
   "name": "python3"
  },
  "language_info": {
   "codemirror_mode": {
    "name": "ipython",
    "version": 3
   },
   "file_extension": ".py",
   "mimetype": "text/x-python",
   "name": "python",
   "nbconvert_exporter": "python",
   "pygments_lexer": "ipython3",
   "version": "3.8.2"
  }
 },
 "nbformat": 4,
 "nbformat_minor": 4
}
